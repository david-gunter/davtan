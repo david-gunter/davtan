{
  "metadata": {
    "language_info": {
      "codemirror_mode": {
        "name": "python",
        "version": 3
      },
      "file_extension": ".py",
      "mimetype": "text/x-python",
      "name": "python",
      "nbconvert_exporter": "python",
      "pygments_lexer": "ipython3",
      "version": "3.8"
    },
    "kernelspec": {
      "name": "python",
      "display_name": "Pyolite",
      "language": "python"
    }
  },
  "nbformat_minor": 4,
  "nbformat": 4,
  "cells": [
    {
      "cell_type": "code",
      "source": "# create a list consisting of values Apple, Pear, Strawberry, Blueberry, Blabla, London\n# print the list",
      "metadata": {},
      "execution_count": null,
      "outputs": []
    },
    {
      "cell_type": "code",
      "source": "# Use the same list as above and print only words that have letter \"l\" in them\n# (hint: python keyword \"in\" can be used for this\n# also lookup \"python iterate through a list\" on google or maybe the cheatsheet has it",
      "metadata": {
        "trusted": true
      },
      "execution_count": 3,
      "outputs": []
    },
    {
      "cell_type": "code",
      "source": "# Create a list of values 1,13,2,232,117,3030,50,-10\n# Go through the list and print only the smallest and largest number in the list",
      "metadata": {
        "trusted": true
      },
      "execution_count": 5,
      "outputs": []
    },
    {
      "cell_type": "code",
      "source": "# Using the list above, print it backwards (-10,50..)",
      "metadata": {},
      "execution_count": null,
      "outputs": []
    }
  ]
}