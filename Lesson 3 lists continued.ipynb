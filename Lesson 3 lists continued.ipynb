{
  "metadata": {
    "language_info": {
      "codemirror_mode": {
        "name": "python",
        "version": 3
      },
      "file_extension": ".py",
      "mimetype": "text/x-python",
      "name": "python",
      "nbconvert_exporter": "python",
      "pygments_lexer": "ipython3",
      "version": "3.8"
    },
    "kernelspec": {
      "name": "python",
      "display_name": "Pyolite",
      "language": "python"
    }
  },
  "nbformat_minor": 4,
  "nbformat": 4,
  "cells": [
    {
      "cell_type": "code",
      "source": "# Create a list (programatically) that contains power of 2 numbers from 1 to 32\n# so, the list would contains 1,2,4,8,16,32.. ",
      "metadata": {
        "trusted": true
      },
      "execution_count": 2,
      "outputs": []
    },
    {
      "cell_type": "code",
      "source": "# Create another list from the list above that only contains every second number\n# so it woul be 1,4,16,..\n# print the list and also print the total of those numbers (1+4+16..)",
      "metadata": {},
      "execution_count": null,
      "outputs": []
    },
    {
      "cell_type": "code",
      "source": "# Merge the 2 lists from above into single list\n# Sort it (do not write sort algorithm, just use appropriate python function)\n# Create new list from that sorted list that only contains unique values (programatically)\n# print it\n",
      "metadata": {
        "trusted": true
      },
      "execution_count": 3,
      "outputs": []
    },
    {
      "cell_type": "code",
      "source": "# Continuing with the list above (deduplicated), insert value \"1\" after every number in the list\n# so, if the original list was 1,2,4,16.. the new one would be 1,1,2,1,4,1,16,1..\n",
      "metadata": {
        "trusted": true
      },
      "execution_count": 4,
      "outputs": []
    },
    {
      "cell_type": "code",
      "source": "# Go through the list above and count how many times does it contain value 1 and print it\n",
      "metadata": {},
      "execution_count": null,
      "outputs": []
    }
  ]
}